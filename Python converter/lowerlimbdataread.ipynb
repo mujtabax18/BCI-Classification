{
 "cells": [
  {
   "cell_type": "code",
   "execution_count": 18,
   "id": "0bc04e78",
   "metadata": {},
   "outputs": [],
   "source": [
    "import scipy\n",
    "import numpy as np\n",
    "def loadmat(filename):\n",
    "    \"\"\"Improved loadmat (replacement for scipy.io.loadmat)\n",
    "    \"\"\"\n",
    "\n",
    "    def _has_struct(elem):\n",
    "        \"\"\"Determine if elem is an array\n",
    "        and if first array item is a struct\n",
    "        \"\"\"\n",
    "        return isinstance(elem, np.ndarray) and (\n",
    "            elem.size > 0) and isinstance(\n",
    "            elem[0], scipy.io.matlab.mat_struct)\n",
    "\n",
    "    def _check_keys(d):\n",
    "        \"\"\"checks if entries in dictionary are mat-objects. If yes\n",
    "        todict is called to change them to nested dictionaries\n",
    "        \"\"\"\n",
    "        for key in d:\n",
    "            elem = d[key]\n",
    "            if isinstance(elem,\n",
    "                          scipy.io.matlab.mat_struct):\n",
    "                d[key] = _todict(elem)\n",
    "            elif _has_struct(elem):\n",
    "                d[key] = _tolist(elem)\n",
    "        return d\n",
    "\n",
    "    def _todict(matobj):\n",
    "        \"\"\"A recursive function which constructs from\n",
    "        matobjects nested dictionaries\n",
    "        \"\"\"\n",
    "        d = {}\n",
    "        for strg in matobj._fieldnames:\n",
    "            elem = matobj.__dict__[strg]\n",
    "            if isinstance(elem,\n",
    "                          scipy.io.matlab.mat_struct):\n",
    "                d[strg] = _todict(elem)\n",
    "            elif _has_struct(elem):\n",
    "                d[strg] = _tolist(elem)\n",
    "            else:\n",
    "                d[strg] = elem\n",
    "        return d\n",
    "\n",
    "    def _tolist(ndarray):\n",
    "        \"\"\"A recursive function which constructs lists from cellarrays\n",
    "        (which are loaded as numpy ndarrays), recursing into the\n",
    "        elements if they contain matobjects.\n",
    "        \"\"\"\n",
    "        elem_list = []\n",
    "        for sub_elem in ndarray:\n",
    "            if isinstance(sub_elem,\n",
    "                          scipy.io.matlab.mat_struct):\n",
    "                elem_list.append(_todict(sub_elem))\n",
    "            elif _has_struct(sub_elem):\n",
    "                elem_list.append(_tolist(sub_elem))\n",
    "            else:\n",
    "                elem_list.append(sub_elem)\n",
    "        return elem_list\n",
    "\n",
    "    data = scipy.io.loadmat(\n",
    "        filename, struct_as_record=False, squeeze_me=True)\n",
    "    return _check_keys(data)\n",
    "\n",
    "\"\"\"Editing Code goes here\"\"\"\n",
    "data = dict()\n",
    "filePath='E:\\\\Project start2\\\\Dataset\\\\Lower Limb Data\\\\Uperlimb code generated'\n",
    "for i in range(1,14):\n",
    "    filename=filePath+'\\\\Subject'+str(i)+'.mat'\n",
    "    subject='Subject'+str(i)\n",
    "    temp=loadmat(filename);\n",
    "    data[subject]=temp[subject]\n"
   ]
  },
  {
   "cell_type": "code",
   "execution_count": 19,
   "id": "7eada824",
   "metadata": {},
   "outputs": [
    {
     "data": {
      "text/plain": [
       "dict_keys(['Subject1', 'Subject2', 'Subject3', 'Subject4', 'Subject5', 'Subject6', 'Subject7', 'Subject8', 'Subject9', 'Subject10', 'Subject11', 'Subject12', 'Subject13'])"
      ]
     },
     "execution_count": 19,
     "metadata": {},
     "output_type": "execute_result"
    }
   ],
   "source": [
    "data.keys()"
   ]
  },
  {
   "cell_type": "code",
   "execution_count": 20,
   "id": "88de24e7",
   "metadata": {},
   "outputs": [
    {
     "data": {
      "text/plain": [
       "dict_keys(['Idle', 'Walking', 'SideStep', 'StandSit', 'SitStand', 'StepUp', 'BackStep'])"
      ]
     },
     "execution_count": 20,
     "metadata": {},
     "output_type": "execute_result"
    }
   ],
   "source": [
    "data['Subject1'].keys()"
   ]
  },
  {
   "cell_type": "code",
   "execution_count": 13,
   "id": "2610b8af",
   "metadata": {},
   "outputs": [
    {
     "data": {
      "text/plain": [
       "array([[-15.93582174, -15.97339598, -16.00030974, ...,  -4.91152437,\n",
       "         -5.1130178 ,  -5.30921191],\n",
       "       [-19.60868843, -19.68441147, -19.74869803, ...,   7.26840387,\n",
       "          7.11564371,   6.96797948],\n",
       "       [-14.95757384, -15.05147456, -15.1361295 , ...,   2.61997885,\n",
       "          2.53196663,   2.44790908],\n",
       "       ...,\n",
       "       [ -5.21010994,  -5.15072948,  -5.08490493, ...,  -4.01065858,\n",
       "         -4.06021815,  -4.10600853],\n",
       "       [ -8.96695314,  -8.8971598 ,  -8.82235246, ...,  -5.2486355 ,\n",
       "         -5.24758479,  -5.24269494],\n",
       "       [-13.37372859, -13.37036856, -13.36297202, ...,  13.64281841,\n",
       "         13.57836291,  13.51443071]])"
      ]
     },
     "execution_count": 13,
     "metadata": {},
     "output_type": "execute_result"
    }
   ],
   "source": [
    "data['Subject13']['Idle'][0]"
   ]
  },
  {
   "cell_type": "code",
   "execution_count": null,
   "id": "1f520b2c",
   "metadata": {},
   "outputs": [],
   "source": []
  }
 ],
 "metadata": {
  "kernelspec": {
   "display_name": "Python 3 (ipykernel)",
   "language": "python",
   "name": "python3"
  },
  "language_info": {
   "codemirror_mode": {
    "name": "ipython",
    "version": 3
   },
   "file_extension": ".py",
   "mimetype": "text/x-python",
   "name": "python",
   "nbconvert_exporter": "python",
   "pygments_lexer": "ipython3",
   "version": "3.9.13"
  }
 },
 "nbformat": 4,
 "nbformat_minor": 5
}
